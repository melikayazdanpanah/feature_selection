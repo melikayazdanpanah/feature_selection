{
 "cells": [
  {
   "cell_type": "code",
   "execution_count": 2,
   "metadata": {},
   "outputs": [],
   "source": [
    "import pandas as pd\n",
    "import numpy as np\n",
    "from skrebate import ReliefF\n",
    "from sklearn.feature_selection import mutual_info_classif\n",
    "from sklearn.model_selection import train_test_split\n",
    "from sklearn.preprocessing import MinMaxScaler\n",
    "from sklearn.neighbors import KNeighborsClassifier\n",
    "from sklearn.metrics import accuracy_score\n",
    "import matplotlib.pyplot as plt "
   ]
  },
  {
   "cell_type": "code",
   "execution_count": 3,
   "metadata": {},
   "outputs": [
    {
     "name": "stdout",
     "output_type": "stream",
     "text": [
      "(2310, 20)\n"
     ]
    },
    {
     "data": {
      "text/html": [
       "<div>\n",
       "<style scoped>\n",
       "    .dataframe tbody tr th:only-of-type {\n",
       "        vertical-align: middle;\n",
       "    }\n",
       "\n",
       "    .dataframe tbody tr th {\n",
       "        vertical-align: top;\n",
       "    }\n",
       "\n",
       "    .dataframe thead th {\n",
       "        text-align: right;\n",
       "    }\n",
       "</style>\n",
       "<table border=\"1\" class=\"dataframe\">\n",
       "  <thead>\n",
       "    <tr style=\"text-align: right;\">\n",
       "      <th></th>\n",
       "      <th>Class</th>\n",
       "      <th>REGION-CENTROID-COL</th>\n",
       "      <th>REGION-CENTROID-ROW</th>\n",
       "      <th>REGION-PIXEL-COUNT</th>\n",
       "      <th>SHORT-LINE-DENSITY-5</th>\n",
       "      <th>SHORT-LINE-DENSITY-2</th>\n",
       "      <th>VEDGE-MEAN</th>\n",
       "      <th>VEDGE-SD</th>\n",
       "      <th>HEDGE-MEAN</th>\n",
       "      <th>HEDGE-SD</th>\n",
       "      <th>INTENSITY-MEAN</th>\n",
       "      <th>RAWRED-MEAN</th>\n",
       "      <th>RAWBLUE-MEAN</th>\n",
       "      <th>RAWGREEN-MEAN</th>\n",
       "      <th>EXRED-MEAN</th>\n",
       "      <th>EXBLUE-MEAN</th>\n",
       "      <th>EXGREEN-MEAN</th>\n",
       "      <th>VALUE-MEAN</th>\n",
       "      <th>SATURATION-MEAN</th>\n",
       "      <th>HUE-MEAN</th>\n",
       "    </tr>\n",
       "  </thead>\n",
       "  <tbody>\n",
       "    <tr>\n",
       "      <th>0</th>\n",
       "      <td>BRICKFACE</td>\n",
       "      <td>140.0</td>\n",
       "      <td>125.0</td>\n",
       "      <td>9</td>\n",
       "      <td>0.0</td>\n",
       "      <td>0.0</td>\n",
       "      <td>0.277778</td>\n",
       "      <td>0.062963</td>\n",
       "      <td>0.666667</td>\n",
       "      <td>0.311111</td>\n",
       "      <td>6.185185</td>\n",
       "      <td>7.333334</td>\n",
       "      <td>7.666666</td>\n",
       "      <td>3.555556</td>\n",
       "      <td>3.444444</td>\n",
       "      <td>4.444445</td>\n",
       "      <td>-7.888889</td>\n",
       "      <td>7.777778</td>\n",
       "      <td>0.545635</td>\n",
       "      <td>-1.121818</td>\n",
       "    </tr>\n",
       "    <tr>\n",
       "      <th>1</th>\n",
       "      <td>BRICKFACE</td>\n",
       "      <td>188.0</td>\n",
       "      <td>133.0</td>\n",
       "      <td>9</td>\n",
       "      <td>0.0</td>\n",
       "      <td>0.0</td>\n",
       "      <td>0.333333</td>\n",
       "      <td>0.266667</td>\n",
       "      <td>0.500000</td>\n",
       "      <td>0.077778</td>\n",
       "      <td>6.666666</td>\n",
       "      <td>8.333334</td>\n",
       "      <td>7.777778</td>\n",
       "      <td>3.888889</td>\n",
       "      <td>5.000000</td>\n",
       "      <td>3.333333</td>\n",
       "      <td>-8.333333</td>\n",
       "      <td>8.444445</td>\n",
       "      <td>0.538580</td>\n",
       "      <td>-0.924817</td>\n",
       "    </tr>\n",
       "    <tr>\n",
       "      <th>2</th>\n",
       "      <td>BRICKFACE</td>\n",
       "      <td>105.0</td>\n",
       "      <td>139.0</td>\n",
       "      <td>9</td>\n",
       "      <td>0.0</td>\n",
       "      <td>0.0</td>\n",
       "      <td>0.277778</td>\n",
       "      <td>0.107407</td>\n",
       "      <td>0.833333</td>\n",
       "      <td>0.522222</td>\n",
       "      <td>6.111111</td>\n",
       "      <td>7.555555</td>\n",
       "      <td>7.222222</td>\n",
       "      <td>3.555556</td>\n",
       "      <td>4.333334</td>\n",
       "      <td>3.333333</td>\n",
       "      <td>-7.666666</td>\n",
       "      <td>7.555555</td>\n",
       "      <td>0.532628</td>\n",
       "      <td>-0.965946</td>\n",
       "    </tr>\n",
       "    <tr>\n",
       "      <th>3</th>\n",
       "      <td>BRICKFACE</td>\n",
       "      <td>34.0</td>\n",
       "      <td>137.0</td>\n",
       "      <td>9</td>\n",
       "      <td>0.0</td>\n",
       "      <td>0.0</td>\n",
       "      <td>0.500000</td>\n",
       "      <td>0.166667</td>\n",
       "      <td>1.111111</td>\n",
       "      <td>0.474074</td>\n",
       "      <td>5.851852</td>\n",
       "      <td>7.777778</td>\n",
       "      <td>6.444445</td>\n",
       "      <td>3.333333</td>\n",
       "      <td>5.777778</td>\n",
       "      <td>1.777778</td>\n",
       "      <td>-7.555555</td>\n",
       "      <td>7.777778</td>\n",
       "      <td>0.573633</td>\n",
       "      <td>-0.744272</td>\n",
       "    </tr>\n",
       "    <tr>\n",
       "      <th>4</th>\n",
       "      <td>BRICKFACE</td>\n",
       "      <td>39.0</td>\n",
       "      <td>111.0</td>\n",
       "      <td>9</td>\n",
       "      <td>0.0</td>\n",
       "      <td>0.0</td>\n",
       "      <td>0.722222</td>\n",
       "      <td>0.374074</td>\n",
       "      <td>0.888889</td>\n",
       "      <td>0.429629</td>\n",
       "      <td>6.037037</td>\n",
       "      <td>7.000000</td>\n",
       "      <td>7.666666</td>\n",
       "      <td>3.444444</td>\n",
       "      <td>2.888889</td>\n",
       "      <td>4.888889</td>\n",
       "      <td>-7.777778</td>\n",
       "      <td>7.888889</td>\n",
       "      <td>0.562919</td>\n",
       "      <td>-1.175773</td>\n",
       "    </tr>\n",
       "  </tbody>\n",
       "</table>\n",
       "</div>"
      ],
      "text/plain": [
       "       Class  REGION-CENTROID-COL  REGION-CENTROID-ROW  REGION-PIXEL-COUNT  \\\n",
       "0  BRICKFACE                140.0                125.0                   9   \n",
       "1  BRICKFACE                188.0                133.0                   9   \n",
       "2  BRICKFACE                105.0                139.0                   9   \n",
       "3  BRICKFACE                 34.0                137.0                   9   \n",
       "4  BRICKFACE                 39.0                111.0                   9   \n",
       "\n",
       "   SHORT-LINE-DENSITY-5  SHORT-LINE-DENSITY-2  VEDGE-MEAN  VEDGE-SD  \\\n",
       "0                   0.0                   0.0    0.277778  0.062963   \n",
       "1                   0.0                   0.0    0.333333  0.266667   \n",
       "2                   0.0                   0.0    0.277778  0.107407   \n",
       "3                   0.0                   0.0    0.500000  0.166667   \n",
       "4                   0.0                   0.0    0.722222  0.374074   \n",
       "\n",
       "   HEDGE-MEAN  HEDGE-SD  INTENSITY-MEAN  RAWRED-MEAN  RAWBLUE-MEAN  \\\n",
       "0    0.666667  0.311111        6.185185     7.333334      7.666666   \n",
       "1    0.500000  0.077778        6.666666     8.333334      7.777778   \n",
       "2    0.833333  0.522222        6.111111     7.555555      7.222222   \n",
       "3    1.111111  0.474074        5.851852     7.777778      6.444445   \n",
       "4    0.888889  0.429629        6.037037     7.000000      7.666666   \n",
       "\n",
       "   RAWGREEN-MEAN  EXRED-MEAN  EXBLUE-MEAN  EXGREEN-MEAN  VALUE-MEAN  \\\n",
       "0       3.555556    3.444444     4.444445     -7.888889    7.777778   \n",
       "1       3.888889    5.000000     3.333333     -8.333333    8.444445   \n",
       "2       3.555556    4.333334     3.333333     -7.666666    7.555555   \n",
       "3       3.333333    5.777778     1.777778     -7.555555    7.777778   \n",
       "4       3.444444    2.888889     4.888889     -7.777778    7.888889   \n",
       "\n",
       "   SATURATION-MEAN  HUE-MEAN  \n",
       "0         0.545635 -1.121818  \n",
       "1         0.538580 -0.924817  \n",
       "2         0.532628 -0.965946  \n",
       "3         0.573633 -0.744272  \n",
       "4         0.562919 -1.175773  "
      ]
     },
     "execution_count": 3,
     "metadata": {},
     "output_type": "execute_result"
    }
   ],
   "source": [
    "seg_data = pd.read_csv(\"segmentation-all.csv\") \n",
    "print(seg_data.shape)\n",
    "seg_data.head()\n"
   ]
  },
  {
   "cell_type": "code",
   "execution_count": 4,
   "metadata": {},
   "outputs": [
    {
     "data": {
      "text/plain": [
       "Class\n",
       "BRICKFACE    330\n",
       "SKY          330\n",
       "FOLIAGE      330\n",
       "CEMENT       330\n",
       "WINDOW       330\n",
       "PATH         330\n",
       "GRASS        330\n",
       "Name: count, dtype: int64"
      ]
     },
     "execution_count": 4,
     "metadata": {},
     "output_type": "execute_result"
    }
   ],
   "source": [
    "seg_data['Class'].value_counts()"
   ]
  },
  {
   "cell_type": "code",
   "execution_count": 5,
   "metadata": {},
   "outputs": [
    {
     "data": {
      "text/plain": [
       "((1155, 19), (1155, 19))"
      ]
     },
     "execution_count": 5,
     "metadata": {},
     "output_type": "execute_result"
    }
   ],
   "source": [
    "\n",
    "y = seg_data.pop('Class').values\n",
    "X_raw = seg_data.values\n",
    "\n",
    "X_tr_raw, X_ts_raw, y_train, y_test = train_test_split(X_raw, y, \n",
    "                                                       random_state=42, test_size=1/2)\n",
    "scaler = MinMaxScaler()\n",
    "X_train = scaler.fit_transform(X_tr_raw)\n",
    "X_test = scaler.transform(X_ts_raw)\n",
    "\n",
    "feature_names = seg_data.columns\n",
    "X_train.shape, X_test.shape"
   ]
  },
  {
   "cell_type": "code",
   "execution_count": 6,
   "metadata": {},
   "outputs": [],
   "source": [
    "reliefFS = ReliefF(n_features_to_select=11, n_neighbors=100, n_jobs = -1)"
   ]
  },
  {
   "cell_type": "code",
   "execution_count": 7,
   "metadata": {},
   "outputs": [
    {
     "data": {
      "text/html": [
       "<style>#sk-container-id-1 {color: black;}#sk-container-id-1 pre{padding: 0;}#sk-container-id-1 div.sk-toggleable {background-color: white;}#sk-container-id-1 label.sk-toggleable__label {cursor: pointer;display: block;width: 100%;margin-bottom: 0;padding: 0.3em;box-sizing: border-box;text-align: center;}#sk-container-id-1 label.sk-toggleable__label-arrow:before {content: \"▸\";float: left;margin-right: 0.25em;color: #696969;}#sk-container-id-1 label.sk-toggleable__label-arrow:hover:before {color: black;}#sk-container-id-1 div.sk-estimator:hover label.sk-toggleable__label-arrow:before {color: black;}#sk-container-id-1 div.sk-toggleable__content {max-height: 0;max-width: 0;overflow: hidden;text-align: left;background-color: #f0f8ff;}#sk-container-id-1 div.sk-toggleable__content pre {margin: 0.2em;color: black;border-radius: 0.25em;background-color: #f0f8ff;}#sk-container-id-1 input.sk-toggleable__control:checked~div.sk-toggleable__content {max-height: 200px;max-width: 100%;overflow: auto;}#sk-container-id-1 input.sk-toggleable__control:checked~label.sk-toggleable__label-arrow:before {content: \"▾\";}#sk-container-id-1 div.sk-estimator input.sk-toggleable__control:checked~label.sk-toggleable__label {background-color: #d4ebff;}#sk-container-id-1 div.sk-label input.sk-toggleable__control:checked~label.sk-toggleable__label {background-color: #d4ebff;}#sk-container-id-1 input.sk-hidden--visually {border: 0;clip: rect(1px 1px 1px 1px);clip: rect(1px, 1px, 1px, 1px);height: 1px;margin: -1px;overflow: hidden;padding: 0;position: absolute;width: 1px;}#sk-container-id-1 div.sk-estimator {font-family: monospace;background-color: #f0f8ff;border: 1px dotted black;border-radius: 0.25em;box-sizing: border-box;margin-bottom: 0.5em;}#sk-container-id-1 div.sk-estimator:hover {background-color: #d4ebff;}#sk-container-id-1 div.sk-parallel-item::after {content: \"\";width: 100%;border-bottom: 1px solid gray;flex-grow: 1;}#sk-container-id-1 div.sk-label:hover label.sk-toggleable__label {background-color: #d4ebff;}#sk-container-id-1 div.sk-serial::before {content: \"\";position: absolute;border-left: 1px solid gray;box-sizing: border-box;top: 0;bottom: 0;left: 50%;z-index: 0;}#sk-container-id-1 div.sk-serial {display: flex;flex-direction: column;align-items: center;background-color: white;padding-right: 0.2em;padding-left: 0.2em;position: relative;}#sk-container-id-1 div.sk-item {position: relative;z-index: 1;}#sk-container-id-1 div.sk-parallel {display: flex;align-items: stretch;justify-content: center;background-color: white;position: relative;}#sk-container-id-1 div.sk-item::before, #sk-container-id-1 div.sk-parallel-item::before {content: \"\";position: absolute;border-left: 1px solid gray;box-sizing: border-box;top: 0;bottom: 0;left: 50%;z-index: -1;}#sk-container-id-1 div.sk-parallel-item {display: flex;flex-direction: column;z-index: 1;position: relative;background-color: white;}#sk-container-id-1 div.sk-parallel-item:first-child::after {align-self: flex-end;width: 50%;}#sk-container-id-1 div.sk-parallel-item:last-child::after {align-self: flex-start;width: 50%;}#sk-container-id-1 div.sk-parallel-item:only-child::after {width: 0;}#sk-container-id-1 div.sk-dashed-wrapped {border: 1px dashed gray;margin: 0 0.4em 0.5em 0.4em;box-sizing: border-box;padding-bottom: 0.4em;background-color: white;}#sk-container-id-1 div.sk-label label {font-family: monospace;font-weight: bold;display: inline-block;line-height: 1.2em;}#sk-container-id-1 div.sk-label-container {text-align: center;}#sk-container-id-1 div.sk-container {/* jupyter's `normalize.less` sets `[hidden] { display: none; }` but bootstrap.min.css set `[hidden] { display: none !important; }` so we also need the `!important` here to be able to override the default hidden behavior on the sphinx rendered scikit-learn.org. See: https://github.com/scikit-learn/scikit-learn/issues/21755 */display: inline-block !important;position: relative;}#sk-container-id-1 div.sk-text-repr-fallback {display: none;}</style><div id=\"sk-container-id-1\" class=\"sk-top-container\"><div class=\"sk-text-repr-fallback\"><pre>ReliefF(n_features_to_select=11, n_jobs=-1)</pre><b>In a Jupyter environment, please rerun this cell to show the HTML representation or trust the notebook. <br />On GitHub, the HTML representation is unable to render, please try loading this page with nbviewer.org.</b></div><div class=\"sk-container\" hidden><div class=\"sk-item\"><div class=\"sk-estimator sk-toggleable\"><input class=\"sk-toggleable__control sk-hidden--visually\" id=\"sk-estimator-id-1\" type=\"checkbox\" checked><label for=\"sk-estimator-id-1\" class=\"sk-toggleable__label sk-toggleable__label-arrow\">ReliefF</label><div class=\"sk-toggleable__content\"><pre>ReliefF(n_features_to_select=11, n_jobs=-1)</pre></div></div></div></div></div>"
      ],
      "text/plain": [
       "ReliefF(n_features_to_select=11, n_jobs=-1)"
      ]
     },
     "execution_count": 7,
     "metadata": {},
     "output_type": "execute_result"
    }
   ],
   "source": [
    "reliefFS.fit(X_train,y_train)"
   ]
  },
  {
   "cell_type": "code",
   "execution_count": 8,
   "metadata": {},
   "outputs": [],
   "source": [
    "relief_scores = reliefFS.feature_importances_"
   ]
  },
  {
   "cell_type": "code",
   "execution_count": 9,
   "metadata": {},
   "outputs": [
    {
     "data": {
      "text/plain": [
       "(1155, 11)"
      ]
     },
     "execution_count": 9,
     "metadata": {},
     "output_type": "execute_result"
    }
   ],
   "source": [
    "\n",
    "reliefFS.transform(X_train).shape"
   ]
  },
  {
   "cell_type": "code",
   "execution_count": 10,
   "metadata": {},
   "outputs": [
    {
     "data": {
      "text/plain": [
       "array([0.16793322, 0.96167652, 0.03418297, 0.04224025, 0.00802031,\n",
       "       0.52682285, 0.34815126, 0.45571547, 0.37793907, 1.15480181,\n",
       "       1.22320188, 1.08153134, 1.09289627, 0.75407457, 0.91064305,\n",
       "       0.95127112, 1.11261002, 0.9534541 , 1.1513262 ])"
      ]
     },
     "execution_count": 10,
     "metadata": {},
     "output_type": "execute_result"
    }
   ],
   "source": [
    "i_scores = mutual_info_classif(X_train,y_train)\n",
    "i_scores\n",
    "# The i-gain scores for the features"
   ]
  },
  {
   "cell_type": "code",
   "execution_count": 11,
   "metadata": {},
   "outputs": [
    {
     "data": {
      "text/plain": [
       "SignificanceResult(statistic=0.8263157894736841, pvalue=1.3015197363823477e-05)"
      ]
     },
     "execution_count": 11,
     "metadata": {},
     "output_type": "execute_result"
    }
   ],
   "source": [
    "from scipy import stats\n",
    "stats.spearmanr(relief_scores, i_scores)"
   ]
  },
  {
   "cell_type": "code",
   "execution_count": 12,
   "metadata": {},
   "outputs": [
    {
     "data": {
      "text/html": [
       "<div>\n",
       "<style scoped>\n",
       "    .dataframe tbody tr th:only-of-type {\n",
       "        vertical-align: middle;\n",
       "    }\n",
       "\n",
       "    .dataframe tbody tr th {\n",
       "        vertical-align: top;\n",
       "    }\n",
       "\n",
       "    .dataframe thead th {\n",
       "        text-align: right;\n",
       "    }\n",
       "</style>\n",
       "<table border=\"1\" class=\"dataframe\">\n",
       "  <thead>\n",
       "    <tr style=\"text-align: right;\">\n",
       "      <th></th>\n",
       "      <th>Mutual Info.</th>\n",
       "      <th>ReliefF</th>\n",
       "    </tr>\n",
       "    <tr>\n",
       "      <th>Feature</th>\n",
       "      <th></th>\n",
       "      <th></th>\n",
       "    </tr>\n",
       "  </thead>\n",
       "  <tbody>\n",
       "    <tr>\n",
       "      <th>RAWRED-MEAN</th>\n",
       "      <td>1.223202</td>\n",
       "      <td>0.412081</td>\n",
       "    </tr>\n",
       "    <tr>\n",
       "      <th>INTENSITY-MEAN</th>\n",
       "      <td>1.154802</td>\n",
       "      <td>0.415412</td>\n",
       "    </tr>\n",
       "    <tr>\n",
       "      <th>HUE-MEAN</th>\n",
       "      <td>1.151326</td>\n",
       "      <td>0.294419</td>\n",
       "    </tr>\n",
       "    <tr>\n",
       "      <th>VALUE-MEAN</th>\n",
       "      <td>1.112610</td>\n",
       "      <td>0.429128</td>\n",
       "    </tr>\n",
       "    <tr>\n",
       "      <th>RAWGREEN-MEAN</th>\n",
       "      <td>1.092896</td>\n",
       "      <td>0.390963</td>\n",
       "    </tr>\n",
       "    <tr>\n",
       "      <th>RAWBLUE-MEAN</th>\n",
       "      <td>1.081531</td>\n",
       "      <td>0.437259</td>\n",
       "    </tr>\n",
       "    <tr>\n",
       "      <th>REGION-CENTROID-ROW</th>\n",
       "      <td>0.961677</td>\n",
       "      <td>0.408392</td>\n",
       "    </tr>\n",
       "    <tr>\n",
       "      <th>SATURATION-MEAN</th>\n",
       "      <td>0.953454</td>\n",
       "      <td>0.331558</td>\n",
       "    </tr>\n",
       "    <tr>\n",
       "      <th>EXGREEN-MEAN</th>\n",
       "      <td>0.951271</td>\n",
       "      <td>0.411451</td>\n",
       "    </tr>\n",
       "    <tr>\n",
       "      <th>EXBLUE-MEAN</th>\n",
       "      <td>0.910643</td>\n",
       "      <td>0.417580</td>\n",
       "    </tr>\n",
       "    <tr>\n",
       "      <th>EXRED-MEAN</th>\n",
       "      <td>0.754075</td>\n",
       "      <td>0.346590</td>\n",
       "    </tr>\n",
       "    <tr>\n",
       "      <th>VEDGE-MEAN</th>\n",
       "      <td>0.526823</td>\n",
       "      <td>0.039159</td>\n",
       "    </tr>\n",
       "    <tr>\n",
       "      <th>HEDGE-MEAN</th>\n",
       "      <td>0.455715</td>\n",
       "      <td>0.075423</td>\n",
       "    </tr>\n",
       "    <tr>\n",
       "      <th>HEDGE-SD</th>\n",
       "      <td>0.377939</td>\n",
       "      <td>0.014508</td>\n",
       "    </tr>\n",
       "    <tr>\n",
       "      <th>VEDGE-SD</th>\n",
       "      <td>0.348151</td>\n",
       "      <td>0.002212</td>\n",
       "    </tr>\n",
       "    <tr>\n",
       "      <th>REGION-CENTROID-COL</th>\n",
       "      <td>0.167933</td>\n",
       "      <td>0.038397</td>\n",
       "    </tr>\n",
       "    <tr>\n",
       "      <th>SHORT-LINE-DENSITY-5</th>\n",
       "      <td>0.042240</td>\n",
       "      <td>0.002088</td>\n",
       "    </tr>\n",
       "    <tr>\n",
       "      <th>REGION-PIXEL-COUNT</th>\n",
       "      <td>0.034183</td>\n",
       "      <td>0.000000</td>\n",
       "    </tr>\n",
       "    <tr>\n",
       "      <th>SHORT-LINE-DENSITY-2</th>\n",
       "      <td>0.008020</td>\n",
       "      <td>0.001915</td>\n",
       "    </tr>\n",
       "  </tbody>\n",
       "</table>\n",
       "</div>"
      ],
      "text/plain": [
       "                      Mutual Info.   ReliefF\n",
       "Feature                                     \n",
       "RAWRED-MEAN               1.223202  0.412081\n",
       "INTENSITY-MEAN            1.154802  0.415412\n",
       "HUE-MEAN                  1.151326  0.294419\n",
       "VALUE-MEAN                1.112610  0.429128\n",
       "RAWGREEN-MEAN             1.092896  0.390963\n",
       "RAWBLUE-MEAN              1.081531  0.437259\n",
       "REGION-CENTROID-ROW       0.961677  0.408392\n",
       "SATURATION-MEAN           0.953454  0.331558\n",
       "EXGREEN-MEAN              0.951271  0.411451\n",
       "EXBLUE-MEAN               0.910643  0.417580\n",
       "EXRED-MEAN                0.754075  0.346590\n",
       "VEDGE-MEAN                0.526823  0.039159\n",
       "HEDGE-MEAN                0.455715  0.075423\n",
       "HEDGE-SD                  0.377939  0.014508\n",
       "VEDGE-SD                  0.348151  0.002212\n",
       "REGION-CENTROID-COL       0.167933  0.038397\n",
       "SHORT-LINE-DENSITY-5      0.042240  0.002088\n",
       "REGION-PIXEL-COUNT        0.034183  0.000000\n",
       "SHORT-LINE-DENSITY-2      0.008020  0.001915"
      ]
     },
     "execution_count": 12,
     "metadata": {},
     "output_type": "execute_result"
    }
   ],
   "source": [
    "df=pd.DataFrame({'Mutual Info.':i_scores,'ReliefF':relief_scores,'Feature':feature_names})\n",
    "df.set_index('Feature', inplace = True)\n",
    "df.sort_values('Mutual Info.', inplace = True, ascending = False)\n",
    "df"
   ]
  },
  {
   "cell_type": "code",
   "execution_count": 13,
   "metadata": {},
   "outputs": [
    {
     "data": {
      "text/plain": [
       "<matplotlib.legend.Legend at 0x2b76dc5d3d0>"
      ]
     },
     "execution_count": 13,
     "metadata": {},
     "output_type": "execute_result"
    },
    {
     "data": {
      "image/png": "[encoded data removed]",
      "text/plain": [
       "<Figure size 640x480 with 2 Axes>"
      ]
     },
     "metadata": {},
     "output_type": "display_data"
    }
   ],
   "source": [
    "fig, ax = plt.subplots()\n",
    "rr = range(0,len(feature_names))\n",
    "ax2 = ax.twinx()\n",
    "ax.plot(df.index, df[\"Mutual Info.\"], label='I-Gain')\n",
    "ax2.plot(df.index, df[\"ReliefF\"], color='red', label='Relief')\n",
    "ax.set_xticks(rr)\n",
    "\n",
    "ax.set_xticklabels(list(df.index), rotation = 90)\n",
    "ax.set_xlabel('Features', fontsize=12, fontweight='bold')\n",
    "ax.set_ylabel('I-Gain')\n",
    "ax2.set_ylabel('ReliefF')\n",
    "fig.legend(loc=\"upper right\", bbox_to_anchor=(1,1), bbox_transform=ax.transAxes)"
   ]
  },
  {
   "cell_type": "code",
   "execution_count": 14,
   "metadata": {},
   "outputs": [
    {
     "data": {
      "text/plain": [
       "0.935064935064935"
      ]
     },
     "execution_count": 14,
     "metadata": {},
     "output_type": "execute_result"
    }
   ],
   "source": [
    "model = KNeighborsClassifier(n_neighbors=3)\n",
    "model = model.fit(X_train,y_train)\n",
    "y_pred = model.predict(X_test)\n",
    "acc_all = accuracy_score(y_pred,y_test)\n",
    "acc_all"
   ]
  },
  {
   "cell_type": "code",
   "execution_count": 15,
   "metadata": {},
   "outputs": [
    {
     "data": {
      "text/plain": [
       "19"
      ]
     },
     "execution_count": 15,
     "metadata": {},
     "output_type": "execute_result"
    }
   ],
   "source": [
    "n_features = X_train.shape[1]\n",
    "n_features"
   ]
  },
  {
   "cell_type": "code",
   "execution_count": 16,
   "metadata": {},
   "outputs": [
    {
     "data": {
      "text/plain": [
       "(1155, 11)"
      ]
     },
     "execution_count": 16,
     "metadata": {},
     "output_type": "execute_result"
    }
   ],
   "source": [
    "X_tr_relief = reliefFS.transform(X_train)\n",
    "X_ts_relief = reliefFS.transform(X_test)\n",
    "X_tr_relief.shape"
   ]
  },
  {
   "cell_type": "code",
   "execution_count": 17,
   "metadata": {},
   "outputs": [
    {
     "data": {
      "text/plain": [
       "0.9515151515151515"
      ]
     },
     "execution_count": 17,
     "metadata": {},
     "output_type": "execute_result"
    }
   ],
   "source": [
    "kNN_relief = model.fit(X_tr_relief,y_train)\n",
    "y_pred = kNN_relief.predict(X_ts_relief)\n",
    "acc_11 = accuracy_score(y_pred,y_test)\n",
    "acc_11"
   ]
  },
  {
   "cell_type": "code",
   "execution_count": 18,
   "metadata": {},
   "outputs": [
    {
     "data": {
      "image/png": "[encoded data removed]",
      "text/plain": [
       "<Figure size 250x350 with 1 Axes>"
      ]
     },
     "metadata": {},
     "output_type": "display_data"
    }
   ],
   "source": [
    "import matplotlib.pyplot as plt \n",
    "import numpy as np\n",
    "%matplotlib inline \n",
    "\n",
    "fig, ax = plt.subplots(figsize=(2.5,3.5))\n",
    "width = 0.5\n",
    "sb = 'skyblue'\n",
    "\n",
    "options = ['All', 'ReliefF 11']\n",
    "scores = [acc_all,acc_11]\n",
    "\n",
    "y_pos = np.arange(len(options))\n",
    "\n",
    "p1 = ax.bar(y_pos, scores, width, align='center', \n",
    "            color=['red', 'blue'],alpha=0.5)\n",
    "\n",
    "ax.set_ylim([0.5, 1])\n",
    "plt.grid(axis = 'y')\n",
    "plt.yticks(np.arange(0.5,1.05,0.05))\n",
    "ax.text(0,acc_all, '%0.3f' % acc_all, ha='center', va = 'top')\n",
    "ax.text(1,acc_11, '%0.3f' % acc_11, ha='center',va = 'top')\n",
    "\n",
    "plt.xticks(y_pos, options)\n",
    "plt.ylabel('Test Set Accuracy')\n",
    "plt.xlabel('Features')\n",
    "plt.show()"
   ]
  }
 ],
 "metadata": {
  "kernelspec": {
   "display_name": "Python 3",
   "language": "python",
   "name": "python3"
  },
  "language_info": {
   "codemirror_mode": {
    "name": "ipython",
    "version": 3
   },
   "file_extension": ".py",
   "mimetype": "text/x-python",
   "name": "python",
   "nbconvert_exporter": "python",
   "pygments_lexer": "ipython3",
   "version": "3.11.8"
  }
 },
 "nbformat": 4,
 "nbformat_minor": 2
}
